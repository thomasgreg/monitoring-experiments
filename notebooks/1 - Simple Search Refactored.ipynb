{
 "cells": [
  {
   "cell_type": "code",
   "execution_count": 1,
   "metadata": {},
   "outputs": [],
   "source": [
    "import sys"
   ]
  },
  {
   "cell_type": "code",
   "execution_count": 2,
   "metadata": {},
   "outputs": [],
   "source": [
    "sys.path.append('..')"
   ]
  },
  {
   "cell_type": "code",
   "execution_count": 3,
   "metadata": {},
   "outputs": [],
   "source": [
    "from monitoring.utils import cv_curve_and_table_for_source, log10uniform"
   ]
  },
  {
   "cell_type": "code",
   "execution_count": 4,
   "metadata": {},
   "outputs": [],
   "source": [
    "import warnings\n",
    "warnings.filterwarnings('ignore')\n",
    "\n",
    "from time import time\n",
    "\n",
    "from sklearn.datasets import load_digits\n",
    "from sklearn.svm import SVC\n",
    "from sklearn.model_selection import ParameterSampler, check_cv\n",
    "\n",
    "from bokeh.io import output_notebook, push_notebook\n",
    "import bokeh.plotting as bp\n",
    "import bokeh.models as bm"
   ]
  },
  {
   "cell_type": "code",
   "execution_count": 5,
   "metadata": {},
   "outputs": [],
   "source": [
    "import bokeh.models as bm\n",
    "import bokeh.plotting as bp\n",
    "import bokeh.layouts as bl\n",
    "import numpy as np\n",
    "import pandas as pd"
   ]
  },
  {
   "cell_type": "code",
   "execution_count": null,
   "metadata": {},
   "outputs": [],
   "source": [
    "output_notebook()"
   ]
  },
  {
   "cell_type": "code",
   "execution_count": 7,
   "metadata": {},
   "outputs": [],
   "source": [
    "digits = load_digits()\n",
    "X, y = digits.data, digits.target"
   ]
  },
  {
   "cell_type": "code",
   "execution_count": 8,
   "metadata": {},
   "outputs": [],
   "source": [
    "param_dist = {\n",
    "    'C': log10uniform(-4, 4),\n",
    "    'gamma': log10uniform(-4, 4)\n",
    "}\n",
    "model = SVC(kernel='rbf')"
   ]
  },
  {
   "cell_type": "markdown",
   "metadata": {},
   "source": [
    "Since we have to access mean scores during the search, we must create a loop to search over parameters"
   ]
  },
  {
   "cell_type": "code",
   "execution_count": 21,
   "metadata": {},
   "outputs": [],
   "source": [
    "def fit_and_score(est, X_train, y_train, X_valid, y_valid, params):\n",
    "    est.set_params(**params)\n",
    "    est.fit(X_train, y_train)\n",
    "    train_score = est.score(X_train, y_train)\n",
    "    test_score = est.score(X_valid, y_valid)\n",
    "    return train_score, test_score\n",
    "\n",
    "def _mean_for_scores(train_test_scores):\n",
    "    train_score, test_score = tuple(np.mean(train_test_scores, 0))\n",
    "    return train_score, test_score\n",
    "\n",
    "def evaluate(est, X, y, params, cv):\n",
    "    scores = []\n",
    "    for train_inds, test_inds in cv.split(\n",
    "        X, y\n",
    "    ):\n",
    "        X_train, y_train, X_valid, y_valid = (\n",
    "            X[train_inds], \n",
    "            y[train_inds],\n",
    "            X[test_inds],\n",
    "            y[test_inds]\n",
    "        )\n",
    "        train_test_scores = fit_and_score(\n",
    "            model, X_train, y_train, X_valid, y_valid, params\n",
    "        )\n",
    "        scores.append(train_test_scores)\n",
    "    return _mean_for_scores(scores)"
   ]
  },
  {
   "cell_type": "markdown",
   "metadata": {},
   "source": [
    "We create the Bokeh data source, data table and a plot for the cross validation curve:"
   ]
  },
  {
   "cell_type": "code",
   "execution_count": 11,
   "metadata": {},
   "outputs": [],
   "source": [
    "def cv_curve_for_source(source):\n",
    "    fig = bp.figure(\n",
    "        plot_width=900, plot_height=300,\n",
    "        x_axis_type='linear',\n",
    "        x_axis_label='iteration',\n",
    "        y_axis_label='mean cv score', \n",
    "        tools=\"pan,wheel_zoom,box_select,reset\",\n",
    "        logo=None\n",
    "    )\n",
    "    fig.grid.visible = False\n",
    "    x_val = 'index'\n",
    "    fig.line(x_val, 'mean_test_score', source=source, line_width=1.5,\n",
    "             line_join='round', alpha=0.5)\n",
    "    fig.scatter(x_val, 'mean_test_score', source=source, size=3, alpha=0.5)\n",
    "    fig.line(x_val, 'cummax_score', source=source, color='orange',\n",
    "             line_width=1.5, line_join='round')\n",
    "    fig.scatter(x_val, 'cummax_score', source=source, size=3, color='orange')\n",
    "    return fig"
   ]
  },
  {
   "cell_type": "code",
   "execution_count": 12,
   "metadata": {},
   "outputs": [],
   "source": [
    "def datatable_for_source(source):\n",
    "    columns = [\n",
    "        bm.TableColumn(field=c, title=c) for c in source.column_names\n",
    "        if c not in ['index', 'tstamp']\n",
    "    ]\n",
    "    columns += [\n",
    "        bm.TableColumn(\n",
    "            field='tstamp',\n",
    "            title='tstamp',\n",
    "            formatter=bm.DateFormatter(format=\"%Y-%m-%d %T\")\n",
    "        )\n",
    "    ]\n",
    "    table = bm.DataTable(source=source, columns=columns, width=900, height=300)\n",
    "    return table"
   ]
  },
  {
   "cell_type": "code",
   "execution_count": 13,
   "metadata": {},
   "outputs": [],
   "source": [
    "def cv_curve_and_table_for_source(source):\n",
    "    layout = bl.column(\n",
    "        [cv_curve_for_source(source), datatable_for_source(source)]\n",
    "    )\n",
    "    return layout"
   ]
  },
  {
   "cell_type": "markdown",
   "metadata": {},
   "source": [
    "Finally, we render our visualisation and run our search:"
   ]
  },
  {
   "cell_type": "code",
   "execution_count": 24,
   "metadata": {},
   "outputs": [],
   "source": [
    "def random_search_cv(est, X, y, param_dist, cv=3, n_iter=100):\n",
    "    \"\"\"RandomizedSearchCV with monitoring\"\"\"\n",
    "    cv = check_cv(cv)\n",
    "    source = bm.ColumnDataSource(pd.DataFrame({\n",
    "            'tstamp': [],\n",
    "            'cummax_score': [],\n",
    "            'mean_test_score': [],\n",
    "            'params': np.array([], dtype=str),\n",
    "    }))\n",
    "    layout = cv_curve_and_table_for_source(source)\n",
    "    h = bp.show(layout, notebook_handle=True)\n",
    "    param_iter = iter(ParameterSampler(param_dist, n_iter=n_iter))\n",
    "\n",
    "    for params in param_iter:\n",
    "        mean_train_score, mean_test_score = evaluate(est, X, y, params, cv)\n",
    "        source.stream({\n",
    "            'index': [len(source.data['index'])],\n",
    "            'mean_test_score': [mean_test_score],\n",
    "            'cummax_score': [max(np.append(source.data['cummax_score'], mean_test_score))],\n",
    "            'tstamp': [pd.datetime.fromtimestamp(time())],\n",
    "            'params': [str(params)],\n",
    "        })\n",
    "        push_notebook(h)"
   ]
  },
  {
   "cell_type": "code",
   "execution_count": 1,
   "metadata": {},
   "outputs": [],
   "source": [
    "random_search_cv(model, X, y, param_dist)"
   ]
  }
 ],
 "metadata": {
  "kernelspec": {
   "display_name": "Python 3",
   "language": "python",
   "name": "python3"
  },
  "language_info": {
   "codemirror_mode": {
    "name": "ipython",
    "version": 3
   },
   "file_extension": ".py",
   "mimetype": "text/x-python",
   "name": "python",
   "nbconvert_exporter": "python",
   "pygments_lexer": "ipython3",
   "version": "3.6.3"
  }
 },
 "nbformat": 4,
 "nbformat_minor": 2
}
